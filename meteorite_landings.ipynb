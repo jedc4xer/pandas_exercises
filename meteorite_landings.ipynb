{
 "cells": [
  {
   "cell_type": "markdown",
   "id": "6d310a73-9c9a-457d-a51f-1200f5e00961",
   "metadata": {},
   "source": [
    "# Meteorite Landings Exercise\n",
    "### Import Data"
   ]
  },
  {
   "cell_type": "code",
   "execution_count": 1,
   "id": "2446526e-da7d-416c-baa4-a11f22e160e7",
   "metadata": {},
   "outputs": [],
   "source": [
    "import pandas as pd\n",
    "\n",
    "meteorite_data = pd.read_csv('datasets/Meteorite_Landings.csv', encoding = 'utf-8')"
   ]
  },
  {
   "cell_type": "markdown",
   "id": "5998b31f-8895-4485-aa4b-c684154087ef",
   "metadata": {},
   "source": [
    "### Remove nametype field"
   ]
  },
  {
   "cell_type": "code",
   "execution_count": 2,
   "id": "a8339000-bf3d-4145-a039-1526bf5b7c8b",
   "metadata": {},
   "outputs": [
    {
     "data": {
      "text/html": [
       "<div>\n",
       "<style scoped>\n",
       "    .dataframe tbody tr th:only-of-type {\n",
       "        vertical-align: middle;\n",
       "    }\n",
       "\n",
       "    .dataframe tbody tr th {\n",
       "        vertical-align: top;\n",
       "    }\n",
       "\n",
       "    .dataframe thead th {\n",
       "        text-align: right;\n",
       "    }\n",
       "</style>\n",
       "<table border=\"1\" class=\"dataframe\">\n",
       "  <thead>\n",
       "    <tr style=\"text-align: right;\">\n",
       "      <th></th>\n",
       "      <th>name</th>\n",
       "      <th>id</th>\n",
       "      <th>recclass</th>\n",
       "      <th>mass (g)</th>\n",
       "      <th>fall</th>\n",
       "      <th>year</th>\n",
       "      <th>reclat</th>\n",
       "      <th>reclong</th>\n",
       "      <th>GeoLocation</th>\n",
       "      <th>States</th>\n",
       "      <th>Counties</th>\n",
       "    </tr>\n",
       "  </thead>\n",
       "  <tbody>\n",
       "    <tr>\n",
       "      <th>0</th>\n",
       "      <td>Aachen</td>\n",
       "      <td>1</td>\n",
       "      <td>L5</td>\n",
       "      <td>21.0</td>\n",
       "      <td>Fell</td>\n",
       "      <td>1880.0</td>\n",
       "      <td>50.775</td>\n",
       "      <td>6.08333</td>\n",
       "      <td>(50.775, 6.08333)</td>\n",
       "      <td>NaN</td>\n",
       "      <td>NaN</td>\n",
       "    </tr>\n",
       "  </tbody>\n",
       "</table>\n",
       "</div>"
      ],
      "text/plain": [
       "     name  id recclass  mass (g)  fall    year  reclat  reclong  \\\n",
       "0  Aachen   1       L5      21.0  Fell  1880.0  50.775  6.08333   \n",
       "\n",
       "         GeoLocation  States  Counties  \n",
       "0  (50.775, 6.08333)     NaN       NaN  "
      ]
     },
     "execution_count": 2,
     "metadata": {},
     "output_type": "execute_result"
    }
   ],
   "source": [
    "meteorite_data = meteorite_data[[_ for _ in meteorite_data.columns if _ != 'nametype']]\n",
    "meteorite_data.head(1)"
   ]
  },
  {
   "cell_type": "markdown",
   "id": "c5e707a8-5cb3-4289-ba24-66bdb29d3fd1",
   "metadata": {},
   "source": [
    "### Clean the mass field so that there's a default value of 0 where there is no mass listed"
   ]
  },
  {
   "cell_type": "code",
   "execution_count": 3,
   "id": "789b709d-2e26-4d5b-a734-776397555827",
   "metadata": {},
   "outputs": [],
   "source": [
    "meteorite_data['mass (g)'] = meteorite_data['mass (g)'].fillna(0)"
   ]
  },
  {
   "cell_type": "markdown",
   "id": "559958b4-5110-442c-b5d1-172f0fa7839e",
   "metadata": {},
   "source": [
    "### Retain only data with no missing years\n",
    "- I made this choice because there were only a few hundred with missing years."
   ]
  },
  {
   "cell_type": "code",
   "execution_count": 4,
   "id": "29524e20-9df5-40f2-a925-eaf5efa42cda",
   "metadata": {},
   "outputs": [],
   "source": [
    "meteorite_data = meteorite_data[(~meteorite_data.year.isna())]"
   ]
  },
  {
   "cell_type": "markdown",
   "id": "a009771f-66bf-4627-9ae9-d212dc117845",
   "metadata": {},
   "source": [
    "### Format Date Time Information"
   ]
  },
  {
   "cell_type": "code",
   "execution_count": 5,
   "id": "0c1ab664-6b9b-466f-b0a2-8e48c7c7b845",
   "metadata": {},
   "outputs": [],
   "source": [
    "import datetime as dt\n",
    "\n",
    "def format_date(year):\n",
    "    year = str(round(year))\n",
    "    return dt.datetime.strptime(year.zfill(4), '%Y').year\n",
    "    #return dt.datetime.strftime(new_date, '%b-%d-%Y') # I don't want any greater time detail\n",
    "\n",
    "# Using dt.datetime\n",
    "meteorite_data['new_year'] = meteorite_data.year.apply(lambda x: format_date(x))\n",
    "\n",
    "# Using pandas datetime\n",
    "meteorite_data['new_year_using_as_type'] = meteorite_data.year.astype('datetime64[ns]')"
   ]
  },
  {
   "cell_type": "code",
   "execution_count": 6,
   "id": "8a593c9d-d591-4031-9955-5c1cce9989df",
   "metadata": {},
   "outputs": [
    {
     "data": {
      "text/html": [
       "<div>\n",
       "<style scoped>\n",
       "    .dataframe tbody tr th:only-of-type {\n",
       "        vertical-align: middle;\n",
       "    }\n",
       "\n",
       "    .dataframe tbody tr th {\n",
       "        vertical-align: top;\n",
       "    }\n",
       "\n",
       "    .dataframe thead th {\n",
       "        text-align: right;\n",
       "    }\n",
       "</style>\n",
       "<table border=\"1\" class=\"dataframe\">\n",
       "  <thead>\n",
       "    <tr style=\"text-align: right;\">\n",
       "      <th></th>\n",
       "      <th>year</th>\n",
       "      <th>new_year</th>\n",
       "      <th>new_year_using_as_type</th>\n",
       "    </tr>\n",
       "  </thead>\n",
       "  <tbody>\n",
       "    <tr>\n",
       "      <th>0</th>\n",
       "      <td>1880.0</td>\n",
       "      <td>1880</td>\n",
       "      <td>1970-01-01 00:00:00.000001880</td>\n",
       "    </tr>\n",
       "    <tr>\n",
       "      <th>1</th>\n",
       "      <td>1951.0</td>\n",
       "      <td>1951</td>\n",
       "      <td>1970-01-01 00:00:00.000001951</td>\n",
       "    </tr>\n",
       "    <tr>\n",
       "      <th>2</th>\n",
       "      <td>1952.0</td>\n",
       "      <td>1952</td>\n",
       "      <td>1970-01-01 00:00:00.000001952</td>\n",
       "    </tr>\n",
       "    <tr>\n",
       "      <th>3</th>\n",
       "      <td>1976.0</td>\n",
       "      <td>1976</td>\n",
       "      <td>1970-01-01 00:00:00.000001976</td>\n",
       "    </tr>\n",
       "    <tr>\n",
       "      <th>4</th>\n",
       "      <td>1902.0</td>\n",
       "      <td>1902</td>\n",
       "      <td>1970-01-01 00:00:00.000001902</td>\n",
       "    </tr>\n",
       "    <tr>\n",
       "      <th>...</th>\n",
       "      <td>...</td>\n",
       "      <td>...</td>\n",
       "      <td>...</td>\n",
       "    </tr>\n",
       "    <tr>\n",
       "      <th>45711</th>\n",
       "      <td>1990.0</td>\n",
       "      <td>1990</td>\n",
       "      <td>1970-01-01 00:00:00.000001990</td>\n",
       "    </tr>\n",
       "    <tr>\n",
       "      <th>45712</th>\n",
       "      <td>1999.0</td>\n",
       "      <td>1999</td>\n",
       "      <td>1970-01-01 00:00:00.000001999</td>\n",
       "    </tr>\n",
       "    <tr>\n",
       "      <th>45713</th>\n",
       "      <td>1939.0</td>\n",
       "      <td>1939</td>\n",
       "      <td>1970-01-01 00:00:00.000001939</td>\n",
       "    </tr>\n",
       "    <tr>\n",
       "      <th>45714</th>\n",
       "      <td>2003.0</td>\n",
       "      <td>2003</td>\n",
       "      <td>1970-01-01 00:00:00.000002003</td>\n",
       "    </tr>\n",
       "    <tr>\n",
       "      <th>45715</th>\n",
       "      <td>1976.0</td>\n",
       "      <td>1976</td>\n",
       "      <td>1970-01-01 00:00:00.000001976</td>\n",
       "    </tr>\n",
       "  </tbody>\n",
       "</table>\n",
       "<p>45425 rows × 3 columns</p>\n",
       "</div>"
      ],
      "text/plain": [
       "         year  new_year        new_year_using_as_type\n",
       "0      1880.0      1880 1970-01-01 00:00:00.000001880\n",
       "1      1951.0      1951 1970-01-01 00:00:00.000001951\n",
       "2      1952.0      1952 1970-01-01 00:00:00.000001952\n",
       "3      1976.0      1976 1970-01-01 00:00:00.000001976\n",
       "4      1902.0      1902 1970-01-01 00:00:00.000001902\n",
       "...       ...       ...                           ...\n",
       "45711  1990.0      1990 1970-01-01 00:00:00.000001990\n",
       "45712  1999.0      1999 1970-01-01 00:00:00.000001999\n",
       "45713  1939.0      1939 1970-01-01 00:00:00.000001939\n",
       "45714  2003.0      2003 1970-01-01 00:00:00.000002003\n",
       "45715  1976.0      1976 1970-01-01 00:00:00.000001976\n",
       "\n",
       "[45425 rows x 3 columns]"
      ]
     },
     "execution_count": 6,
     "metadata": {},
     "output_type": "execute_result"
    }
   ],
   "source": [
    "meteorite_data[[_ for _ in meteorite_data.columns if 'year' in _]]"
   ]
  },
  {
   "cell_type": "markdown",
   "id": "f4d81c8d-0d36-4d01-b488-64ff1857bf71",
   "metadata": {},
   "source": [
    "### Ensure that special characters are correctly present."
   ]
  },
  {
   "cell_type": "code",
   "execution_count": 7,
   "id": "ef867ecc-e14c-4d41-880c-9acba445796e",
   "metadata": {},
   "outputs": [
    {
     "data": {
      "text/plain": [
       "'Aïr'"
      ]
     },
     "execution_count": 7,
     "metadata": {},
     "output_type": "execute_result"
    }
   ],
   "source": [
    "meteorite_data.iloc[11]['name']"
   ]
  },
  {
   "cell_type": "markdown",
   "id": "39b615fa-df67-407d-9813-f14b335d7610",
   "metadata": {},
   "source": [
    "### Store each decades data in its own excel sheet.\n",
    " - I'm storing each 100 years so I don't have 255 sheets."
   ]
  },
  {
   "cell_type": "code",
   "execution_count": 8,
   "id": "0ab9b77a-5b74-4af1-8160-f381df6198ca",
   "metadata": {},
   "outputs": [
    {
     "name": "stderr",
     "output_type": "stream",
     "text": [
      "C:\\Users\\Work\\anaconda3\\lib\\site-packages\\xlsxwriter\\workbook.py:338: UserWarning: Calling close() on already closed file.\n",
      "  warn(\"Calling close() on already closed file.\")\n"
     ]
    }
   ],
   "source": [
    "with pd.ExcelWriter('datasets/meteorites_by_decade.xlsx') as new_file:\n",
    "    years = meteorite_data.new_year.unique().tolist()\n",
    "    for decade in range(round(min(years)-60), max(years), 100):\n",
    "        sheet_name = f'{decade}-{decade+100}'\n",
    "        subset = meteorite_data[(meteorite_data.year < decade + 100)]\n",
    "        meteorite_data = meteorite_data[(meteorite_data.year >= decade + 100)]\n",
    "        subset.to_excel(new_file, sheet_name = sheet_name)\n",
    "    new_file.close()\n",
    "    "
   ]
  },
  {
   "cell_type": "code",
   "execution_count": 9,
   "id": "cd99ad80-6075-442e-a41d-3411347bb845",
   "metadata": {},
   "outputs": [
    {
     "name": "stdout",
     "output_type": "stream",
     "text": [
      "265\n"
     ]
    }
   ],
   "source": [
    "print(len(years))"
   ]
  },
  {
   "cell_type": "code",
   "execution_count": null,
   "id": "173395cd-50f4-4016-b146-3872d5fc8f15",
   "metadata": {},
   "outputs": [],
   "source": []
  }
 ],
 "metadata": {
  "kernelspec": {
   "display_name": "Python 3 (ipykernel)",
   "language": "python",
   "name": "python3"
  },
  "language_info": {
   "codemirror_mode": {
    "name": "ipython",
    "version": 3
   },
   "file_extension": ".py",
   "mimetype": "text/x-python",
   "name": "python",
   "nbconvert_exporter": "python",
   "pygments_lexer": "ipython3",
   "version": "3.9.7"
  }
 },
 "nbformat": 4,
 "nbformat_minor": 5
}
