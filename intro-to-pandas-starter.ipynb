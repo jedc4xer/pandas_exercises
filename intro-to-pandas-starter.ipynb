{
 "cells": [
  {
   "cell_type": "markdown",
   "metadata": {
    "azdata_cell_guid": "d8edfa4f-d389-4418-ab43-1acca1d5d2c3"
   },
   "source": [
    "# Intro to Pandas - Exercise\n",
    "\n",
    "In this lesson, we have given you the starting data.  Now let's explore the UCI ML Zoo Dataset using `pandas`."
   ]
  },
  {
   "cell_type": "markdown",
   "metadata": {
    "azdata_cell_guid": "884c6ea1-5be7-4b5c-a5a8-3f16b4dde72a",
    "tags": []
   },
   "source": [
    "Put the [zoo.csv](zoo.csv) file in the same folder as this notebook. Then answer the following questions using code.\n",
    "\n",
    "## Exercise Questions"
   ]
  },
  {
   "cell_type": "markdown",
   "metadata": {
    "azdata_cell_guid": "10b3083f-a433-4d96-bb1a-7c3b1b5351dd",
    "tags": []
   },
   "source": [
    "1. What is the code to import our zoo dataset into a variable named `animals`?"
   ]
  },
  {
   "cell_type": "code",
   "execution_count": 1,
   "metadata": {
    "azdata_cell_guid": "5ccf5932-e045-4fba-b500-ec5acd0738d7"
   },
   "outputs": [],
   "source": [
    "import pandas as pd\n",
    "\n",
    "animals = pd.read_csv('datasets/zoo.csv')"
   ]
  },
  {
   "cell_type": "markdown",
   "metadata": {
    "azdata_cell_guid": "aa692593-98ca-4086-9e63-07d1ee8a4cc5"
   },
   "source": [
    "2. What is the type of the `animals` variable?"
   ]
  },
  {
   "cell_type": "code",
   "execution_count": 2,
   "metadata": {
    "azdata_cell_guid": "97807c20-fd9d-4cdd-bbfb-12ea74468155"
   },
   "outputs": [
    {
     "data": {
      "text/plain": [
       "pandas.core.frame.DataFrame"
      ]
     },
     "execution_count": 2,
     "metadata": {},
     "output_type": "execute_result"
    }
   ],
   "source": [
    "type(animals)"
   ]
  },
  {
   "cell_type": "markdown",
   "metadata": {
    "azdata_cell_guid": "276aca06-5333-4b06-af8e-650c237bda4d"
   },
   "source": [
    "3. How many animals are in this dataset?"
   ]
  },
  {
   "cell_type": "code",
   "execution_count": 3,
   "metadata": {
    "azdata_cell_guid": "96261b5b-1eee-43c7-8d77-ccbb97b3d1c7"
   },
   "outputs": [
    {
     "name": "stdout",
     "output_type": "stream",
     "text": [
      "101\n"
     ]
    }
   ],
   "source": [
    "print(animals.shape[0])"
   ]
  },
  {
   "cell_type": "markdown",
   "metadata": {
    "azdata_cell_guid": "721ef658-8dff-48c8-ba82-9087089c31aa"
   },
   "source": [
    "4. How many rows and columns are in this dataset?"
   ]
  },
  {
   "cell_type": "code",
   "execution_count": 4,
   "metadata": {
    "azdata_cell_guid": "aa2a3c8a-d579-446a-8625-938fb8314f79"
   },
   "outputs": [
    {
     "name": "stdout",
     "output_type": "stream",
     "text": [
      "Rows: 101\n",
      "Columns: 18\n"
     ]
    }
   ],
   "source": [
    "print(f'Rows: {animals.shape[0]}\\nColumns: {animals.shape[1]}')"
   ]
  },
  {
   "cell_type": "markdown",
   "metadata": {
    "azdata_cell_guid": "70f5747f-3db2-4c3e-8dea-933e33b29531"
   },
   "source": [
    "5\\. What are the columns of this dataset?"
   ]
  },
  {
   "cell_type": "code",
   "execution_count": 5,
   "metadata": {
    "azdata_cell_guid": "8e15c479-17fd-430b-8775-78402583d163"
   },
   "outputs": [
    {
     "name": "stdout",
     "output_type": "stream",
     "text": [
      "['animal_name' 'hair' 'feathers' 'eggs' 'milk' 'airborne' 'aquatic'\n",
      " 'predator' 'toothed' 'backbone' 'breathes' 'venomous' 'fins' 'legs'\n",
      " 'tail' 'domestic' 'catsize' 'class_type']\n"
     ]
    }
   ],
   "source": [
    "print(animals.columns.values)"
   ]
  },
  {
   "cell_type": "markdown",
   "metadata": {
    "azdata_cell_guid": "d47c1de6-7529-4cb1-87b8-dae06d5832fa"
   },
   "source": [
    "6\\. Are there any non-null observations?"
   ]
  },
  {
   "cell_type": "code",
   "execution_count": 6,
   "metadata": {
    "azdata_cell_guid": "9a8600a0-372a-474c-a000-3b10436a514b"
   },
   "outputs": [
    {
     "name": "stdout",
     "output_type": "stream",
     "text": [
      "Yes, most if not all of the observations are non-null.\n"
     ]
    }
   ],
   "source": [
    "print('Yes, most if not all of the observations are non-null.')"
   ]
  },
  {
   "cell_type": "markdown",
   "metadata": {
    "azdata_cell_guid": "29e86652-570c-4dfb-b97f-1db14f0a477b"
   },
   "source": [
    "7\\. How do you list the columns and their types?"
   ]
  },
  {
   "cell_type": "code",
   "execution_count": 7,
   "metadata": {
    "azdata_cell_guid": "8198eb30-33e7-4026-ad33-34b9e5b2de91"
   },
   "outputs": [
    {
     "data": {
      "text/plain": [
       "animal_name    object\n",
       "hair            int64\n",
       "feathers        int64\n",
       "eggs            int64\n",
       "milk            int64\n",
       "airborne        int64\n",
       "aquatic         int64\n",
       "predator        int64\n",
       "toothed         int64\n",
       "backbone        int64\n",
       "breathes        int64\n",
       "venomous        int64\n",
       "fins            int64\n",
       "legs            int64\n",
       "tail            int64\n",
       "domestic        int64\n",
       "catsize         int64\n",
       "class_type      int64\n",
       "dtype: object"
      ]
     },
     "execution_count": 7,
     "metadata": {},
     "output_type": "execute_result"
    }
   ],
   "source": [
    "animals.dtypes"
   ]
  },
  {
   "cell_type": "markdown",
   "metadata": {
    "azdata_cell_guid": "07fdd1ab-2e67-45da-9616-79f390296ec2"
   },
   "source": [
    "8. We want to explore animal names, legs, and catsize.  Filter `animals` to only use those fields."
   ]
  },
  {
   "cell_type": "code",
   "execution_count": 8,
   "metadata": {
    "azdata_cell_guid": "1aa74cb4-bd38-4a47-beef-3a2e2daa1bfb"
   },
   "outputs": [
    {
     "data": {
      "text/plain": [
       "(101, 3)"
      ]
     },
     "execution_count": 8,
     "metadata": {},
     "output_type": "execute_result"
    }
   ],
   "source": [
    "filtered_animals = animals[['animal_name','legs','catsize']]\n",
    "filtered_animals.shape"
   ]
  },
  {
   "cell_type": "markdown",
   "metadata": {
    "azdata_cell_guid": "f0cc8730-6696-469a-9b42-cf2c368d9b39"
   },
   "source": [
    "9\\. What are the first 6 rows of this dataset?"
   ]
  },
  {
   "cell_type": "code",
   "execution_count": 9,
   "metadata": {
    "azdata_cell_guid": "37c24239-2e86-48bd-8c44-9c91e81ebf71"
   },
   "outputs": [
    {
     "data": {
      "text/html": [
       "<div>\n",
       "<style scoped>\n",
       "    .dataframe tbody tr th:only-of-type {\n",
       "        vertical-align: middle;\n",
       "    }\n",
       "\n",
       "    .dataframe tbody tr th {\n",
       "        vertical-align: top;\n",
       "    }\n",
       "\n",
       "    .dataframe thead th {\n",
       "        text-align: right;\n",
       "    }\n",
       "</style>\n",
       "<table border=\"1\" class=\"dataframe\">\n",
       "  <thead>\n",
       "    <tr style=\"text-align: right;\">\n",
       "      <th></th>\n",
       "      <th>animal_name</th>\n",
       "      <th>legs</th>\n",
       "      <th>catsize</th>\n",
       "    </tr>\n",
       "  </thead>\n",
       "  <tbody>\n",
       "    <tr>\n",
       "      <th>0</th>\n",
       "      <td>aardvark</td>\n",
       "      <td>4</td>\n",
       "      <td>1</td>\n",
       "    </tr>\n",
       "    <tr>\n",
       "      <th>1</th>\n",
       "      <td>antelope</td>\n",
       "      <td>4</td>\n",
       "      <td>1</td>\n",
       "    </tr>\n",
       "    <tr>\n",
       "      <th>2</th>\n",
       "      <td>bass</td>\n",
       "      <td>0</td>\n",
       "      <td>0</td>\n",
       "    </tr>\n",
       "    <tr>\n",
       "      <th>3</th>\n",
       "      <td>bear</td>\n",
       "      <td>4</td>\n",
       "      <td>1</td>\n",
       "    </tr>\n",
       "    <tr>\n",
       "      <th>4</th>\n",
       "      <td>boar</td>\n",
       "      <td>4</td>\n",
       "      <td>1</td>\n",
       "    </tr>\n",
       "    <tr>\n",
       "      <th>5</th>\n",
       "      <td>buffalo</td>\n",
       "      <td>4</td>\n",
       "      <td>1</td>\n",
       "    </tr>\n",
       "  </tbody>\n",
       "</table>\n",
       "</div>"
      ],
      "text/plain": [
       "  animal_name  legs  catsize\n",
       "0    aardvark     4        1\n",
       "1    antelope     4        1\n",
       "2        bass     0        0\n",
       "3        bear     4        1\n",
       "4        boar     4        1\n",
       "5     buffalo     4        1"
      ]
     },
     "execution_count": 9,
     "metadata": {},
     "output_type": "execute_result"
    }
   ],
   "source": [
    "filtered_animals.head(6)"
   ]
  },
  {
   "cell_type": "markdown",
   "metadata": {
    "azdata_cell_guid": "d88e295e-1f77-4da4-b170-0a4d11d6e768"
   },
   "source": [
    "10\\. What are the last 3 rows of this dataset?"
   ]
  },
  {
   "cell_type": "code",
   "execution_count": 10,
   "metadata": {
    "azdata_cell_guid": "86830363-875a-49a3-bf38-27ca6e138274"
   },
   "outputs": [
    {
     "data": {
      "text/html": [
       "<div>\n",
       "<style scoped>\n",
       "    .dataframe tbody tr th:only-of-type {\n",
       "        vertical-align: middle;\n",
       "    }\n",
       "\n",
       "    .dataframe tbody tr th {\n",
       "        vertical-align: top;\n",
       "    }\n",
       "\n",
       "    .dataframe thead th {\n",
       "        text-align: right;\n",
       "    }\n",
       "</style>\n",
       "<table border=\"1\" class=\"dataframe\">\n",
       "  <thead>\n",
       "    <tr style=\"text-align: right;\">\n",
       "      <th></th>\n",
       "      <th>animal_name</th>\n",
       "      <th>legs</th>\n",
       "      <th>catsize</th>\n",
       "    </tr>\n",
       "  </thead>\n",
       "  <tbody>\n",
       "    <tr>\n",
       "      <th>98</th>\n",
       "      <td>wolf</td>\n",
       "      <td>4</td>\n",
       "      <td>1</td>\n",
       "    </tr>\n",
       "    <tr>\n",
       "      <th>99</th>\n",
       "      <td>worm</td>\n",
       "      <td>0</td>\n",
       "      <td>0</td>\n",
       "    </tr>\n",
       "    <tr>\n",
       "      <th>100</th>\n",
       "      <td>wren</td>\n",
       "      <td>2</td>\n",
       "      <td>0</td>\n",
       "    </tr>\n",
       "  </tbody>\n",
       "</table>\n",
       "</div>"
      ],
      "text/plain": [
       "    animal_name  legs  catsize\n",
       "98         wolf     4        1\n",
       "99         worm     0        0\n",
       "100        wren     2        0"
      ]
     },
     "execution_count": 10,
     "metadata": {},
     "output_type": "execute_result"
    }
   ],
   "source": [
    "filtered_animals.tail(3)"
   ]
  },
  {
   "cell_type": "markdown",
   "metadata": {
    "azdata_cell_guid": "3dce8114-047b-4b84-b32e-8c502468f898"
   },
   "source": [
    "11\\. What are the values for `legs`? How many observations are there for each value?"
   ]
  },
  {
   "cell_type": "code",
   "execution_count": 11,
   "metadata": {
    "azdata_cell_guid": "b5fec6a8-8e43-4fe5-a2c8-518dbbf93db1"
   },
   "outputs": [
    {
     "data": {
      "text/plain": [
       "4    38\n",
       "2    27\n",
       "0    23\n",
       "6    10\n",
       "8     2\n",
       "5     1\n",
       "Name: legs, dtype: int64"
      ]
     },
     "execution_count": 11,
     "metadata": {},
     "output_type": "execute_result"
    }
   ],
   "source": [
    "filtered_animals.legs.value_counts()"
   ]
  },
  {
   "cell_type": "markdown",
   "metadata": {
    "azdata_cell_guid": "8cd13055-8870-4caa-b2e4-3b39ab571e6d"
   },
   "source": [
    "12\\. Let's filter our animal set further to only include legged animals.  Set `animals` to this filtered set."
   ]
  },
  {
   "cell_type": "code",
   "execution_count": 12,
   "metadata": {
    "azdata_cell_guid": "1bbae140-7e71-4b48-b754-b5ee4dd67f89"
   },
   "outputs": [
    {
     "data": {
      "text/plain": [
       "(78, 3)"
      ]
     },
     "execution_count": 12,
     "metadata": {},
     "output_type": "execute_result"
    }
   ],
   "source": [
    "legged_only = filtered_animals[(filtered_animals.legs > 0)]\n",
    "legged_only.shape"
   ]
  },
  {
   "cell_type": "markdown",
   "metadata": {
    "azdata_cell_guid": "f621b7f9-d853-491d-8589-aea65468e6e7"
   },
   "source": [
    "13\\. What is the largest amount of legs?"
   ]
  },
  {
   "cell_type": "code",
   "execution_count": 13,
   "metadata": {
    "azdata_cell_guid": "4eacc23f-43f2-4147-93bf-f3adb21471e3"
   },
   "outputs": [
    {
     "data": {
      "text/plain": [
       "8"
      ]
     },
     "execution_count": 13,
     "metadata": {},
     "output_type": "execute_result"
    }
   ],
   "source": [
    "legged_only.legs.max()"
   ]
  },
  {
   "cell_type": "markdown",
   "metadata": {
    "azdata_cell_guid": "641f4b81-51f0-421e-9d6a-51ef3e57d5ed"
   },
   "source": [
    "14\\. Which animals have the largest amount of legs?"
   ]
  },
  {
   "cell_type": "code",
   "execution_count": 14,
   "metadata": {
    "azdata_cell_guid": "93b30c3c-ca5d-46c6-961f-8d724b4b090c"
   },
   "outputs": [
    {
     "data": {
      "text/html": [
       "<div>\n",
       "<style scoped>\n",
       "    .dataframe tbody tr th:only-of-type {\n",
       "        vertical-align: middle;\n",
       "    }\n",
       "\n",
       "    .dataframe tbody tr th {\n",
       "        vertical-align: top;\n",
       "    }\n",
       "\n",
       "    .dataframe thead th {\n",
       "        text-align: right;\n",
       "    }\n",
       "</style>\n",
       "<table border=\"1\" class=\"dataframe\">\n",
       "  <thead>\n",
       "    <tr style=\"text-align: right;\">\n",
       "      <th></th>\n",
       "      <th>animal_name</th>\n",
       "      <th>legs</th>\n",
       "      <th>catsize</th>\n",
       "    </tr>\n",
       "  </thead>\n",
       "  <tbody>\n",
       "    <tr>\n",
       "      <th>53</th>\n",
       "      <td>octopus</td>\n",
       "      <td>8</td>\n",
       "      <td>1</td>\n",
       "    </tr>\n",
       "    <tr>\n",
       "      <th>72</th>\n",
       "      <td>scorpion</td>\n",
       "      <td>8</td>\n",
       "      <td>0</td>\n",
       "    </tr>\n",
       "    <tr>\n",
       "      <th>24</th>\n",
       "      <td>flea</td>\n",
       "      <td>6</td>\n",
       "      <td>0</td>\n",
       "    </tr>\n",
       "    <tr>\n",
       "      <th>88</th>\n",
       "      <td>termite</td>\n",
       "      <td>6</td>\n",
       "      <td>0</td>\n",
       "    </tr>\n",
       "    <tr>\n",
       "      <th>30</th>\n",
       "      <td>gnat</td>\n",
       "      <td>6</td>\n",
       "      <td>0</td>\n",
       "    </tr>\n",
       "  </tbody>\n",
       "</table>\n",
       "</div>"
      ],
      "text/plain": [
       "   animal_name  legs  catsize\n",
       "53     octopus     8        1\n",
       "72    scorpion     8        0\n",
       "24        flea     6        0\n",
       "88     termite     6        0\n",
       "30        gnat     6        0"
      ]
     },
     "execution_count": 14,
     "metadata": {},
     "output_type": "execute_result"
    }
   ],
   "source": [
    "legged_only.sort_values(by = 'legs', ascending = False).head()"
   ]
  },
  {
   "cell_type": "markdown",
   "metadata": {
    "azdata_cell_guid": "bf19a22c-7ba1-4e58-b4a3-549011427d0e"
   },
   "source": [
    "15\\. Looking at the legs, there are mostly even numbered values.  Which animal has 5 legs?  Try to guess it before writing the code."
   ]
  },
  {
   "cell_type": "code",
   "execution_count": 15,
   "metadata": {
    "azdata_cell_guid": "00235ec4-ff1f-403a-a0f2-782c479796e4"
   },
   "outputs": [
    {
     "data": {
      "text/html": [
       "<div>\n",
       "<style scoped>\n",
       "    .dataframe tbody tr th:only-of-type {\n",
       "        vertical-align: middle;\n",
       "    }\n",
       "\n",
       "    .dataframe tbody tr th {\n",
       "        vertical-align: top;\n",
       "    }\n",
       "\n",
       "    .dataframe thead th {\n",
       "        text-align: right;\n",
       "    }\n",
       "</style>\n",
       "<table border=\"1\" class=\"dataframe\">\n",
       "  <thead>\n",
       "    <tr style=\"text-align: right;\">\n",
       "      <th></th>\n",
       "      <th>animal_name</th>\n",
       "      <th>legs</th>\n",
       "      <th>catsize</th>\n",
       "    </tr>\n",
       "  </thead>\n",
       "  <tbody>\n",
       "    <tr>\n",
       "      <th>85</th>\n",
       "      <td>starfish</td>\n",
       "      <td>5</td>\n",
       "      <td>0</td>\n",
       "    </tr>\n",
       "  </tbody>\n",
       "</table>\n",
       "</div>"
      ],
      "text/plain": [
       "   animal_name  legs  catsize\n",
       "85    starfish     5        0"
      ]
     },
     "execution_count": 15,
     "metadata": {},
     "output_type": "execute_result"
    }
   ],
   "source": [
    "legged_only[(legged_only.legs == 5)]"
   ]
  },
  {
   "cell_type": "code",
   "execution_count": null,
   "metadata": {},
   "outputs": [],
   "source": []
  }
 ],
 "metadata": {
  "kernelspec": {
   "display_name": "Python 3 (ipykernel)",
   "language": "python",
   "name": "python3"
  },
  "language_info": {
   "codemirror_mode": {
    "name": "ipython",
    "version": 3
   },
   "file_extension": ".py",
   "mimetype": "text/x-python",
   "name": "python",
   "nbconvert_exporter": "python",
   "pygments_lexer": "ipython3",
   "version": "3.9.7"
  }
 },
 "nbformat": 4,
 "nbformat_minor": 4
}
