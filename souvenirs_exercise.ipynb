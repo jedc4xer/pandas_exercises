{
 "cells": [
  {
   "cell_type": "markdown",
   "id": "0973f099-a741-49cb-a923-751abd20f49b",
   "metadata": {},
   "source": [
    "# Souvenirs Exercise\n",
    "### Import Data"
   ]
  },
  {
   "cell_type": "code",
   "execution_count": 1,
   "id": "529a453a-f3cc-4e69-869c-86d00fef9fce",
   "metadata": {},
   "outputs": [
    {
     "name": "stdout",
     "output_type": "stream",
     "text": [
      "147\n"
     ]
    }
   ],
   "source": [
    "import pandas as pd\n",
    "import os\n",
    "\n",
    "souvenirs_df = pd.read_csv('datasets/souvenir/souvenir.csv')\n",
    "category_df = pd.read_csv('datasets/souvenir/category.csv')\n",
    "city_df = pd.read_csv('datasets/souvenir/city.csv')\n",
    "country_df = pd.read_csv('datasets/souvenir/country.csv')\n",
    "location_df = pd.read_csv('datasets/souvenir/location.csv')\n",
    "owner_df = pd.read_csv('datasets/souvenir/owner.csv')\n",
    "region_df = pd.read_csv('datasets/souvenir/region.csv')\n",
    "\n",
    "print(souvenirs_df.shape[0])"
   ]
  },
  {
   "cell_type": "markdown",
   "id": "eb2b3ef9-3b63-4c9e-be08-b728a51fcee5",
   "metadata": {},
   "source": [
    "### Combine DataFrames and Change the name of the IDS"
   ]
  },
  {
   "cell_type": "code",
   "execution_count": 2,
   "id": "d9f55688-31a6-4504-adba-6d8b9cfea485",
   "metadata": {},
   "outputs": [
    {
     "data": {
      "text/html": [
       "<div>\n",
       "<style scoped>\n",
       "    .dataframe tbody tr th:only-of-type {\n",
       "        vertical-align: middle;\n",
       "    }\n",
       "\n",
       "    .dataframe tbody tr th {\n",
       "        vertical-align: top;\n",
       "    }\n",
       "\n",
       "    .dataframe thead th {\n",
       "        text-align: right;\n",
       "    }\n",
       "</style>\n",
       "<table border=\"1\" class=\"dataframe\">\n",
       "  <thead>\n",
       "    <tr style=\"text-align: right;\">\n",
       "      <th></th>\n",
       "      <th>ItemDescription</th>\n",
       "      <th>DateObtained</th>\n",
       "      <th>Price</th>\n",
       "      <th>Weight</th>\n",
       "      <th>Name</th>\n",
       "      <th>CategoryName</th>\n",
       "      <th>City</th>\n",
       "      <th>Region</th>\n",
       "      <th>Country</th>\n",
       "      <th>PlaceName</th>\n",
       "      <th>Owner</th>\n",
       "    </tr>\n",
       "  </thead>\n",
       "  <tbody>\n",
       "    <tr>\n",
       "      <th>0</th>\n",
       "      <td>NaN</td>\n",
       "      <td>2019/02/15</td>\n",
       "      <td>7.50</td>\n",
       "      <td>12.0</td>\n",
       "      <td>Grizzly Bear Mug</td>\n",
       "      <td>Kitchenware</td>\n",
       "      <td>NaN</td>\n",
       "      <td>NaN</td>\n",
       "      <td>NaN</td>\n",
       "      <td>Rocky Mountain National Park</td>\n",
       "      <td>Group 3</td>\n",
       "    </tr>\n",
       "    <tr>\n",
       "      <th>1</th>\n",
       "      <td>NaN</td>\n",
       "      <td>2019/02/17</td>\n",
       "      <td>9.99</td>\n",
       "      <td>20.0</td>\n",
       "      <td>Snowy Mountain Mug</td>\n",
       "      <td>Kitchenware</td>\n",
       "      <td>NaN</td>\n",
       "      <td>NaN</td>\n",
       "      <td>NaN</td>\n",
       "      <td>Rocky Mountain National Park</td>\n",
       "      <td>Group 3</td>\n",
       "    </tr>\n",
       "    <tr>\n",
       "      <th>2</th>\n",
       "      <td>NaN</td>\n",
       "      <td>2019/03/05</td>\n",
       "      <td>12.99</td>\n",
       "      <td>16.0</td>\n",
       "      <td>Lobster Mug</td>\n",
       "      <td>Kitchenware</td>\n",
       "      <td>NaN</td>\n",
       "      <td>NaN</td>\n",
       "      <td>NaN</td>\n",
       "      <td>Offshore Trap/Pot Waters Area</td>\n",
       "      <td>Group 3</td>\n",
       "    </tr>\n",
       "    <tr>\n",
       "      <th>3</th>\n",
       "      <td>NaN</td>\n",
       "      <td>2019/04/18</td>\n",
       "      <td>10.25</td>\n",
       "      <td>16.0</td>\n",
       "      <td>Sea Lion Mug</td>\n",
       "      <td>Kitchenware</td>\n",
       "      <td>NaN</td>\n",
       "      <td>NaN</td>\n",
       "      <td>NaN</td>\n",
       "      <td>Steller Sea Lion Protection Area</td>\n",
       "      <td>Group 3</td>\n",
       "    </tr>\n",
       "    <tr>\n",
       "      <th>4</th>\n",
       "      <td>NaN</td>\n",
       "      <td>2019/05/07</td>\n",
       "      <td>6.91</td>\n",
       "      <td>20.0</td>\n",
       "      <td>Coral Reef Mug</td>\n",
       "      <td>Kitchenware</td>\n",
       "      <td>NaN</td>\n",
       "      <td>NaN</td>\n",
       "      <td>NaN</td>\n",
       "      <td>Pacific Remote Islands Marine National Monument</td>\n",
       "      <td>Group 3</td>\n",
       "    </tr>\n",
       "  </tbody>\n",
       "</table>\n",
       "</div>"
      ],
      "text/plain": [
       "  ItemDescription DateObtained  Price  Weight                Name  \\\n",
       "0             NaN   2019/02/15   7.50    12.0    Grizzly Bear Mug   \n",
       "1             NaN   2019/02/17   9.99    20.0  Snowy Mountain Mug   \n",
       "2             NaN   2019/03/05  12.99    16.0         Lobster Mug   \n",
       "3             NaN   2019/04/18  10.25    16.0        Sea Lion Mug   \n",
       "4             NaN   2019/05/07   6.91    20.0      Coral Reef Mug   \n",
       "\n",
       "  CategoryName City Region Country  \\\n",
       "0  Kitchenware  NaN    NaN     NaN   \n",
       "1  Kitchenware  NaN    NaN     NaN   \n",
       "2  Kitchenware  NaN    NaN     NaN   \n",
       "3  Kitchenware  NaN    NaN     NaN   \n",
       "4  Kitchenware  NaN    NaN     NaN   \n",
       "\n",
       "                                         PlaceName    Owner  \n",
       "0                     Rocky Mountain National Park  Group 3  \n",
       "1                     Rocky Mountain National Park  Group 3  \n",
       "2                    Offshore Trap/Pot Waters Area  Group 3  \n",
       "3                 Steller Sea Lion Protection Area  Group 3  \n",
       "4  Pacific Remote Islands Marine National Monument  Group 3  "
      ]
     },
     "execution_count": 2,
     "metadata": {},
     "output_type": "execute_result"
    }
   ],
   "source": [
    "# Rename similar columns to prepare for merge\n",
    "category_df.rename(columns = {'Name': 'CategoryName'}, inplace = True)\n",
    "city_df.rename(columns = {'Name': 'City'}, inplace = True)\n",
    "region_df.rename(columns = {'Name': 'Region'}, inplace = True)\n",
    "country_df.rename(columns = {'name': 'Country'}, inplace = True)\n",
    "owner_df.rename(columns = {'Name': 'Owner'}, inplace = True)\n",
    "\n",
    "# Merge location frames\n",
    "city_region = pd.merge(city_df, region_df, left_on = 'RegionID', right_on = 'RegionID')\n",
    "location = pd.merge(city_region, country_df, left_on = 'CountryID', right_on = 'CountryID')\n",
    "\n",
    "# Slim down the location frame\n",
    "location = location[['CityID', 'City', 'Region', 'Country']]\n",
    "\n",
    "# Slim down the second location frame\n",
    "locale_df = location_df[['LocationID', 'PlaceName']]\n",
    "\n",
    "# Merge Primary Df with secondary\n",
    "souvenirs_df = pd.merge(souvenirs_df, category_df, left_on = 'CategoryID', right_on = 'CategoryID', how = 'left')\n",
    "souvenirs_df = pd.merge(souvenirs_df, location, left_on = 'CityID', right_on = 'CityID', how = 'left')\n",
    "souvenirs_df = pd.merge(souvenirs_df, locale_df, left_on = 'LocationID', right_on = 'LocationID', how = 'left')\n",
    "souvenirs_df = pd.merge(souvenirs_df, owner_df, left_on = 'OwnerID', right_on = 'OwnerID', how = 'left')\n",
    "\n",
    "# Define which columns to keep\n",
    "columns_to_keep = [_ for _ in souvenirs_df.columns.values.tolist() if 'ID' not in _]\n",
    "\n",
    "# Slim down the resultant dataframe\n",
    "souvenirs_df = souvenirs_df[[_ for _ in columns_to_keep]]\n",
    "\n",
    "souvenirs_df.head()"
   ]
  },
  {
   "cell_type": "markdown",
   "id": "5aedbd7d-9990-48b6-b89c-989fe0e3ab0d",
   "metadata": {},
   "source": [
    "### Export to CSV"
   ]
  },
  {
   "cell_type": "code",
   "execution_count": 3,
   "id": "88a8e29a-056d-4e5a-be1e-9993750f1065",
   "metadata": {},
   "outputs": [],
   "source": [
    "for owner in list(set(souvenirs_df.Owner.tolist())):\n",
    "    souvenirs_df[(souvenirs_df.Owner == owner)].to_csv(f'souvenir_output/{owner}.csv', index = False)\n",
    "    "
   ]
  }
 ],
 "metadata": {
  "kernelspec": {
   "display_name": "Python 3 (ipykernel)",
   "language": "python",
   "name": "python3"
  },
  "language_info": {
   "codemirror_mode": {
    "name": "ipython",
    "version": 3
   },
   "file_extension": ".py",
   "mimetype": "text/x-python",
   "name": "python",
   "nbconvert_exporter": "python",
   "pygments_lexer": "ipython3",
   "version": "3.9.7"
  }
 },
 "nbformat": 4,
 "nbformat_minor": 5
}
